{
 "cells": [
  {
   "cell_type": "code",
   "execution_count": 2,
   "id": "320ca8ae",
   "metadata": {},
   "outputs": [
    {
     "name": "stdout",
     "output_type": "stream",
     "text": [
      "Predicted Label: spam\n"
     ]
    }
   ],
   "source": [
    "import pandas as pd\n",
    "from sklearn.feature_extraction.text import TfidfVectorizer\n",
    "from sklearn.naive_bayes import MultinomialNB\n",
    "\n",
    "# Sample dataset\n",
    "data = {\n",
    "    'message': [\n",
    "        'Great job on the project, looking forward to seeing the final result!',\n",
    "        'Congratulations, you have won a free cruise to the Bahamas! Claim now.',\n",
    "        'Don\\'t forget our meeting tomorrow at 10 AM.',\n",
    "        'Get your exclusive discount code for 50% off on all purchases.',\n",
    "        'URGENT: Your account has been compromised. Please update your password immediately.',\n",
    "        'Meeting cancelled. We will reschedule for next week.',\n",
    "        'Limited time offer: Buy one, get one free on all products.',\n",
    "        'Hello, how are you doing today?',\n",
    "        'Reminder: Your appointment is scheduled for tomorrow.',\n",
    "        'Last chance to avail the early bird discount for the conference.'\n",
    "    ],\n",
    "    'label': ['ham', 'spam', 'ham', 'spam', 'spam', 'ham', 'spam', 'ham', 'ham', 'ham']\n",
    "}\n",
    "df = pd.DataFrame(data)\n",
    "\n",
    "# Data preprocessing\n",
    "tfidf_vectorizer = TfidfVectorizer()\n",
    "X = tfidf_vectorizer.fit_transform(df['message'])\n",
    "y = df['label']\n",
    "\n",
    "# Train the Naive Bayes model\n",
    "nb_model = MultinomialNB()\n",
    "nb_model.fit(X, y)\n",
    "\n",
    "# Input a new message\n",
    "new_message = \"URGENT: Update your aadhar\"\n",
    "\n",
    "# Transform the new message using the TF-IDF vectorizer\n",
    "new_message_tfidf = tfidf_vectorizer.transform([new_message])\n",
    "\n",
    "# Predict the label for the new message\n",
    "predicted_label = nb_model.predict(new_message_tfidf)\n",
    "\n",
    "print(\"Predicted Label:\", predicted_label[0])"
   ]
  },
  {
   "cell_type": "code",
   "execution_count": null,
   "id": "1acd9bac",
   "metadata": {},
   "outputs": [],
   "source": []
  }
 ],
 "metadata": {
  "kernelspec": {
   "display_name": "Python 3 (ipykernel)",
   "language": "python",
   "name": "python3"
  },
  "language_info": {
   "codemirror_mode": {
    "name": "ipython",
    "version": 3
   },
   "file_extension": ".py",
   "mimetype": "text/x-python",
   "name": "python",
   "nbconvert_exporter": "python",
   "pygments_lexer": "ipython3",
   "version": "3.9.13"
  }
 },
 "nbformat": 4,
 "nbformat_minor": 5
}
