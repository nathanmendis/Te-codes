{
 "cells": [
  {
   "cell_type": "code",
   "execution_count": null,
   "id": "071dcae1",
   "metadata": {},
   "outputs": [],
   "source": [
    "import pandas as pd\n",
    "from sklearn.ensemble import RandomForestClassifier\n",
    "# Prepare the dummy data (same as before for demonstration)\n",
    "data = {\n",
    " 'packet_size': [1500, 1400, 1600, 200, 180, 220],\n",
    " 'packet_frequency': [1000, 900, 1100, 50, 40, 60],\n",
    " 'protocol_type': ['TCP', 'UDP', 'TCP', 'UDP', 'UDP', 'TCP'],\n",
    " 'label': ['DDoS', 'Normal', 'DDoS', 'Normal', 'Normal', 'DDoS']\n",
    "}\n",
    "df = pd.DataFrame(data)\n",
    "df = pd.get_dummies(df, columns=['protocol_type'])\n",
    "# Train the model\n",
    "X = df.drop('label', axis=1)\n",
    "y = df['label']\n",
    "model = RandomForestClassifier()\n",
    "model.fit(X, y)\n",
    "# Take input from the user\n",
    "packet_size = int(input(\"Enter packet size: \"))\n",
    "packet_frequency = int(input(\"Enter packet frequency: \"))\n",
    "protocol_type_tcp = int(input(\"Is protocol type TCP? (1 for yes, 0 for no): \"))\n",
    "protocol_type_udp = 1 - protocol_type_tcp # complement\n",
    "# Create a DataFrame with user input\n",
    "user_data = pd.DataFrame({\n",
    " 'packet_size': [packet_size],\n",
    " 'packet_frequency': [packet_frequency],\n",
    " 'protocol_type_TCP': [protocol_type_tcp],\n",
    " 'protocol_type_UDP': [protocol_type_udp]\n",
    "})\n",
    "# Predict whether it's a DDoS attack or not\n",
    "prediction = model.predict(user_data)\n",
    "if prediction[0] == 'DDoS':\n",
    " print(\"The input is classified as a DDoS attack.\")\n",
    "else:\n",
    " print(\"The input is classified as normal traffic.\")"
   ]
  },
  {
   "cell_type": "code",
   "execution_count": 3,
   "id": "f42623e9",
   "metadata": {},
   "outputs": [
    {
     "name": "stdout",
     "output_type": "stream",
     "text": [
      "Enter packet size: 500\n",
      "Enter packet frequency: 5\n",
      "Is protocol type TCP? (1 for yes, 0 for no): 0\n",
      "The input is classified as normal traffic.\n"
     ]
    }
   ],
   "source": [
    "import pandas as pd\n",
    "from sklearn.ensemble import RandomForestClassifier\n",
    "# Prepare the dummy data (same as before for demonstration)\n",
    "data = {\n",
    " 'packet_size': [1500, 1400, 1600, 200, 180, 220],\n",
    " 'packet_frequency': [1000, 900, 1100, 50, 40, 60],\n",
    " 'protocol_type': ['TCP', 'UDP', 'TCP', 'UDP', 'UDP', 'TCP'],\n",
    " 'label': ['DDoS', 'Normal', 'DDoS', 'Normal', 'Normal', 'DDoS']\n",
    "}\n",
    "df = pd.DataFrame(data)\n",
    "df = pd.get_dummies(df, columns=['protocol_type'])\n",
    "# Train the model\n",
    "X = df.drop('label', axis=1)\n",
    "y = df['label']\n",
    "model = RandomForestClassifier()\n",
    "model.fit(X, y)\n",
    "# Take input from the user\n",
    "packet_size = int(input(\"Enter packet size: \"))\n",
    "packet_frequency = int(input(\"Enter packet frequency: \"))\n",
    "protocol_type_tcp = int(input(\"Is protocol type TCP? (1 for yes, 0 for no): \"))\n",
    "protocol_type_udp = 1 - protocol_type_tcp # complement\n",
    "# Create a DataFrame with user input\n",
    "user_data = pd.DataFrame({\n",
    " 'packet_size': [packet_size],\n",
    " 'packet_frequency': [packet_frequency],\n",
    " 'protocol_type_TCP': [protocol_type_tcp],\n",
    " 'protocol_type_UDP': [protocol_type_udp]\n",
    "})\n",
    "# Predict whether it's a DDoS attack or not\n",
    "prediction = model.predict(user_data)\n",
    "if prediction[0] == 'DDoS':\n",
    " print(\"The input is classified as a DDoS attack.\")\n",
    "else:\n",
    " print(\"The input is classified as normal traffic.\")"
   ]
  },
  {
   "cell_type": "code",
   "execution_count": null,
   "id": "5652521a",
   "metadata": {},
   "outputs": [],
   "source": []
  }
 ],
 "metadata": {
  "kernelspec": {
   "display_name": "Python 3 (ipykernel)",
   "language": "python",
   "name": "python3"
  },
  "language_info": {
   "codemirror_mode": {
    "name": "ipython",
    "version": 3
   },
   "file_extension": ".py",
   "mimetype": "text/x-python",
   "name": "python",
   "nbconvert_exporter": "python",
   "pygments_lexer": "ipython3",
   "version": "3.9.13"
  }
 },
 "nbformat": 4,
 "nbformat_minor": 5
}
